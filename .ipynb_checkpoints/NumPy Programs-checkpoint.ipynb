{
 "cells": [
  {
   "cell_type": "markdown",
   "id": "7f2e4179",
   "metadata": {},
   "source": [
    "# Ways to create 1D arrays."
   ]
  },
  {
   "cell_type": "code",
   "execution_count": 1,
   "id": "63b1e427",
   "metadata": {
    "scrolled": true
   },
   "outputs": [
    {
     "name": "stdout",
     "output_type": "stream",
     "text": [
      "[11 22 33 44 55]\n",
      "<class 'numpy.ndarray'>\n"
     ]
    }
   ],
   "source": [
    "import numpy as np\n",
    "\n",
    "a = [11, 22, 33, 44, 55]\n",
    "myArr = np.array(a)\n",
    "print(myArr)\n",
    "print(type(myArr))"
   ]
  },
  {
   "cell_type": "code",
   "execution_count": 4,
   "id": "040d4277",
   "metadata": {},
   "outputs": [
    {
     "name": "stdout",
     "output_type": "stream",
     "text": [
      "[11 22 33 44 55]\n"
     ]
    }
   ],
   "source": [
    "import numpy as np\n",
    "\n",
    "myArr = np.array([11, 22, 33, 44, 55])\n",
    "print(myArr)\n",
    "# print(type(myArr))"
   ]
  },
  {
   "cell_type": "code",
   "execution_count": 5,
   "id": "36e570e9",
   "metadata": {},
   "outputs": [
    {
     "name": "stdout",
     "output_type": "stream",
     "text": [
      "[1 2 3 4 5]\n"
     ]
    }
   ],
   "source": [
    "import numpy as np\n",
    "\n",
    "myArr = np.array((1, 2, 3, 4, 5))\n",
    "print(myArr)\n",
    "# print(type(myArr))"
   ]
  },
  {
   "cell_type": "code",
   "execution_count": 6,
   "id": "9d39875c",
   "metadata": {},
   "outputs": [
    {
     "name": "stdout",
     "output_type": "stream",
     "text": [
      "Enter the limit => 5\n",
      "Enter numbers => 11\n",
      "Enter numbers => 22\n",
      "Enter numbers => 33\n",
      "Enter numbers => 44\n",
      "Enter numbers => 55\n",
      "[11 22 33 44 55]\n",
      "11\n",
      "22\n",
      "33\n",
      "44\n",
      "55\n"
     ]
    }
   ],
   "source": [
    "import numpy as np\n",
    "\n",
    "list1 = []\n",
    "n = int(input(\"Enter the limit => \"))\n",
    "for i in range(1, n+1):\n",
    "    y = int(input(\"Enter numbers => \"))\n",
    "    list1.append(y)\n",
    "myArr = np.array(list1)\n",
    "print(myArr)\n",
    "# print(type(myArr))\n",
    "\n",
    "for i in range(0, myArr.size):\n",
    "    print(myArr[i])"
   ]
  },
  {
   "cell_type": "code",
   "execution_count": 18,
   "id": "a5eccddc",
   "metadata": {},
   "outputs": [
    {
     "name": "stdout",
     "output_type": "stream",
     "text": [
      "[ 1  2  3  4  5  6  7  8  9 10 11 12 13 14 15 16 17 18 19]\n"
     ]
    }
   ],
   "source": [
    "import numpy as np\n",
    "\n",
    "myArr = np.arange(1, 20)\n",
    "print(myArr)\n",
    "print(type(myArr))"
   ]
  },
  {
   "cell_type": "markdown",
   "id": "a52a9514",
   "metadata": {},
   "source": [
    "\n",
    "# Ways to create 2D arrays."
   ]
  },
  {
   "cell_type": "code",
   "execution_count": 7,
   "id": "e1da9f80",
   "metadata": {},
   "outputs": [
    {
     "name": "stdout",
     "output_type": "stream",
     "text": [
      "[[1 2 3]\n",
      " [4 5 6]\n",
      " [7 8 9]]\n"
     ]
    }
   ],
   "source": [
    "import numpy as np\n",
    "\n",
    "list1 = [[1, 2, 3], [4, 5, 6], [7, 8, 9]]\n",
    "myArr = np.array(list1)\n",
    "print(myArr)\n",
    "# print(type(myArr))"
   ]
  },
  {
   "cell_type": "code",
   "execution_count": 8,
   "id": "dbab1b55",
   "metadata": {},
   "outputs": [
    {
     "name": "stdout",
     "output_type": "stream",
     "text": [
      "[[0 1 2]\n",
      " [3 4 5]\n",
      " [6 7 8]]\n"
     ]
    }
   ],
   "source": [
    "import numpy as np\n",
    "\n",
    "myArr = np.array([[0,1,2], [3,4,5], [6,7,8]])\n",
    "print(myArr)\n",
    "# print(type(myArr))"
   ]
  },
  {
   "cell_type": "markdown",
   "id": "ee2b29ba",
   "metadata": {},
   "source": [
    "# ndim (Returns the number of dimensions.)"
   ]
  },
  {
   "cell_type": "code",
   "execution_count": 12,
   "id": "d04b8bd2",
   "metadata": {},
   "outputs": [
    {
     "name": "stdout",
     "output_type": "stream",
     "text": [
      "Dimension of a =>  0\n",
      "\n",
      "Dimension of b =>  1\n",
      "\n",
      "Dimension of c =>  2\n",
      "\n",
      "Dimension of d =>  3\n"
     ]
    }
   ],
   "source": [
    "import numpy as np\n",
    "\n",
    "a = np.array(55)\n",
    "b = np.array([11, 20, 23, 54, 51])\n",
    "c = np.array([[10, 20, 30], [41, 23, 99], [45, 20, 77]])\n",
    "d = np.array([[[11, 25,6], [7,8,9]], [[7, 3,2], [1,4,3]]])\n",
    "\n",
    "# print(a)\n",
    "print(\"Dimension of a => \", a.ndim)\n",
    "print()\n",
    "\n",
    "# print(b)\n",
    "print(\"Dimension of b => \", b.ndim)\n",
    "print()\n",
    "\n",
    "# print(c)\n",
    "print(\"Dimension of c => \", c.ndim)\n",
    "print()\n",
    "\n",
    "# print(d)\n",
    "print(\"Dimension of d => \", d.ndim)"
   ]
  },
  {
   "cell_type": "markdown",
   "id": "9a268ce3",
   "metadata": {},
   "source": [
    "# shape (Returns a tuple with each index having the number of corresponding elements.)"
   ]
  },
  {
   "cell_type": "code",
   "execution_count": 148,
   "id": "3415a964",
   "metadata": {},
   "outputs": [
    {
     "name": "stdout",
     "output_type": "stream",
     "text": [
      "1\n",
      "Shape =>  ()\n",
      "\n",
      "[2 3 4 5 6]\n",
      "Shape =>  (5,)\n",
      "\n",
      "[[ 7  8  9]\n",
      " [10 11 12]\n",
      " [13 14 15]]\n",
      "Shape =>  (3, 3)\n",
      "\n",
      "[[[16 17 18]\n",
      "  [19 20 21]]\n",
      "\n",
      " [[22 23 24]\n",
      "  [25 26 27]]]\n",
      "Shape =>  (2, 2, 3)\n"
     ]
    }
   ],
   "source": [
    "import numpy as np\n",
    "\n",
    "a = np.array(1)\n",
    "b = np.array([2, 3, 4, 5, 6])\n",
    "c = np.array([[7, 8, 9], [10, 11, 12], [13, 14, 15]])\n",
    "d = np.array([[[16, 17, 18], [19, 20, 21]], [[22, 23, 24], [25, 26, 27]]])\n",
    "\n",
    "print(a)\n",
    "print(\"Shape => \", a.shape)\n",
    "print()\n",
    "\n",
    "print(b)\n",
    "print(\"Shape => \", b.shape)\n",
    "print()\n",
    "\n",
    "print(c)\n",
    "print(\"Shape => \", c.shape)\n",
    "print()\n",
    "\n",
    "print(d)\n",
    "print(\"Shape => \", d.shape)"
   ]
  },
  {
   "cell_type": "markdown",
   "id": "985dc33f",
   "metadata": {},
   "source": [
    "# ndmin ( Specifies minimum dimensions of resultant array.)"
   ]
  },
  {
   "cell_type": "code",
   "execution_count": 43,
   "id": "3fd4a368",
   "metadata": {},
   "outputs": [
    {
     "name": "stdout",
     "output_type": "stream",
     "text": [
      "[[[[[1 2 3 4]]]]]\n",
      "Dimensions =>  5\n"
     ]
    }
   ],
   "source": [
    "import numpy as np\n",
    "\n",
    "myArr = np.array([1, 2, 3, 4], ndmin = 5)\n",
    "print(myArr)\n",
    "print(\"Dimensions => \", myArr.ndim)"
   ]
  },
  {
   "cell_type": "markdown",
   "id": "d0464efe",
   "metadata": {},
   "source": [
    "# Accessing elements by Index."
   ]
  },
  {
   "cell_type": "code",
   "execution_count": 48,
   "id": "07bd3583",
   "metadata": {},
   "outputs": [
    {
     "name": "stdout",
     "output_type": "stream",
     "text": [
      "1   |   1   |   5   |   5\n",
      "6   |   11   |   13\n"
     ]
    }
   ],
   "source": [
    "a = np.array([1, 2, 3, 4, 5])\n",
    "b = np.array([[6, 7, 8], [9, 10, 11], [12, 13, 14]])\n",
    "\n",
    "print(a[0], \"  |  \" , a[-5], \"  |  \" , a[-1], \"  |  \" ,a[4])\n",
    "print(b[0,0], \"  |  \" , b[1,2], \"  |  \" ,b[2,1])"
   ]
  },
  {
   "cell_type": "markdown",
   "id": "3bdecd91",
   "metadata": {},
   "source": [
    "# zeros (Return a new array of given shape and type, filled with zeros.)"
   ]
  },
  {
   "cell_type": "code",
   "execution_count": 147,
   "id": "794a59a7",
   "metadata": {},
   "outputs": [
    {
     "name": "stdout",
     "output_type": "stream",
     "text": [
      "Matrix a : \n",
      " [0. 0.]\n",
      "\n",
      "Matrix b : \n",
      " [[0. 0. 0.]\n",
      " [0. 0. 0.]\n",
      " [0. 0. 0.]]\n",
      "\n",
      "Matrix c : \n",
      " [0 0]\n",
      "\n",
      "Matrix d : \n",
      " [[0 0 0]\n",
      " [0 0 0]\n",
      " [0 0 0]]\n"
     ]
    }
   ],
   "source": [
    "import numpy as np\n",
    "\n",
    "a = np.zeros(2)\n",
    "print(\"Matrix a : \\n\", a)\n",
    "print()\n",
    "\n",
    "b = np.zeros([3, 3])\n",
    "print(\"Matrix b : \\n\", b)\n",
    "print()\n",
    "\n",
    "c = np.zeros(2, int)\n",
    "print(\"Matrix c : \\n\", c)\n",
    "print()\n",
    "\n",
    "d = np.zeros([3, 3], int)\n",
    "print(\"Matrix d : \\n\", d)"
   ]
  },
  {
   "cell_type": "code",
   "execution_count": 57,
   "id": "87a52604",
   "metadata": {},
   "outputs": [
    {
     "name": "stdout",
     "output_type": "stream",
     "text": [
      "[[(0, 0.) (0, 0.) (0, 0.)]\n",
      " [(0, 0.) (0, 0.) (0, 0.)]\n",
      " [(0, 0.) (0, 0.) (0, 0.)]]\n",
      "\n",
      "[[(0., 0) (0., 0) (0., 0)]\n",
      " [(0., 0) (0., 0) (0., 0)]\n",
      " [(0., 0) (0., 0) (0., 0)]]\n"
     ]
    }
   ],
   "source": [
    "import numpy as np\n",
    "\n",
    "a = np.zeros((3, 3), dtype = [('x', 'int'), ('y', 'float')])\n",
    "b = np.zeros((3, 3), dtype = [('x', 'float'), ('y', 'int')])\n",
    "\n",
    "print(a)\n",
    "print()\n",
    "print(b)"
   ]
  },
  {
   "cell_type": "markdown",
   "id": "2c80b991",
   "metadata": {},
   "source": [
    "# dtype (Specifies the datatype. Like 'float', 'int', 'bool', 'str' and 'object'.)"
   ]
  },
  {
   "cell_type": "code",
   "execution_count": 61,
   "id": "6f60c5f3",
   "metadata": {},
   "outputs": [
    {
     "name": "stdout",
     "output_type": "stream",
     "text": [
      "[[1 2 3]\n",
      " [4 5 6]\n",
      " [7 8 9]]\n",
      "\n",
      "After changing the datatype: \n",
      "\n",
      "[[1. 2. 3.]\n",
      " [4. 5. 6.]\n",
      " [7. 8. 9.]]\n"
     ]
    }
   ],
   "source": [
    "import numpy as np\n",
    "\n",
    "l = [[1, 2, 3], [4, 5, 6], [7, 8, 9]]\n",
    "a = np.array(l)\n",
    "print(a)\n",
    "\n",
    "print(\"\\nAfter changing the datatype: \\n\")\n",
    "\n",
    "b = np.array(l, dtype = 'float')\n",
    "print(b)"
   ]
  },
  {
   "cell_type": "markdown",
   "id": "42b7abf4",
   "metadata": {},
   "source": [
    "# ones (Returns an array of similar shape and size with values of elements of the array as ones.)"
   ]
  },
  {
   "cell_type": "code",
   "execution_count": 145,
   "id": "6981d6e3",
   "metadata": {},
   "outputs": [
    {
     "name": "stdout",
     "output_type": "stream",
     "text": [
      "Matrix a: \n",
      " [1. 1. 1. 1. 1.]\n",
      "\n",
      "Matrix b: \n",
      " [[1. 1. 1.]\n",
      " [1. 1. 1.]\n",
      " [1. 1. 1.]]\n",
      "\n",
      "Matrix c: \n",
      " [1 1 1 1 1]\n",
      "\n",
      "Matrix d: \n",
      " [[1 1 1]\n",
      " [1 1 1]\n",
      " [1 1 1]]\n"
     ]
    }
   ],
   "source": [
    "import numpy as np\n",
    "\n",
    "a = np.ones(5)\n",
    "print(\"Matrix a: \\n\", a)\n",
    "print()\n",
    "\n",
    "b = np.ones([3, 3])\n",
    "print(\"Matrix b: \\n\", b)\n",
    "print()\n",
    "\n",
    "c = np.ones(5, int)\n",
    "print(\"Matrix c: \\n\", c)\n",
    "print()\n",
    "\n",
    "d = np.ones([3, 3], int)\n",
    "print(\"Matrix d: \\n\", d)"
   ]
  },
  {
   "cell_type": "markdown",
   "id": "a7b2e721",
   "metadata": {},
   "source": [
    "# eye (Returns a 2-D array with 1's as the diagonal and 0's elsewhere.)"
   ]
  },
  {
   "cell_type": "code",
   "execution_count": 144,
   "id": "75b873f6",
   "metadata": {},
   "outputs": [
    {
     "name": "stdout",
     "output_type": "stream",
     "text": [
      "Matrix a: \n",
      " [[1. 0.]\n",
      " [0. 1.]]\n",
      "\n",
      "Matrix b: \n",
      " [[1. 0. 0. 0.]\n",
      " [0. 1. 0. 0.]\n",
      " [0. 0. 1. 0.]]\n",
      "\n",
      "Matrix c: \n",
      " [[1 0]\n",
      " [0 1]]\n",
      "\n",
      "Matrix d: \n",
      " [[1 0 0 0]\n",
      " [0 1 0 0]\n",
      " [0 0 1 0]]\n"
     ]
    }
   ],
   "source": [
    "import numpy as np\n",
    "\n",
    "a = np.eye(2)\n",
    "print(\"Matrix a: \\n\", a)\n",
    "print()\n",
    "\n",
    "b = np.eye(3, 4)\n",
    "print(\"Matrix b: \\n\", b)\n",
    "print()\n",
    "\n",
    "c = np.eye(2, dtype = 'int')\n",
    "print(\"Matrix c: \\n\", c)\n",
    "print()\n",
    "\n",
    "d = np.eye(3, 4, dtype = 'int')\n",
    "print(\"Matrix d: \\n\", d)"
   ]
  },
  {
   "cell_type": "markdown",
   "id": "fe7fc69c",
   "metadata": {},
   "source": [
    "# diag (Used to extract a diagonal or construct a diagonal array.)"
   ]
  },
  {
   "cell_type": "code",
   "execution_count": 80,
   "id": "ca146127",
   "metadata": {},
   "outputs": [
    {
     "name": "stdout",
     "output_type": "stream",
     "text": [
      "[[1 2 3]\n",
      " [4 5 6]\n",
      " [7 8 9]] \n",
      "\n",
      "Main Diagonal =>  [1 5 9]\n",
      "Upper Diagonal =>  [2 6]\n",
      "Lower Diagonal =>  [4 8]\n"
     ]
    }
   ],
   "source": [
    "import numpy as np\n",
    "\n",
    "a = np.matrix([[1, 2, 3], [4, 5, 6], [7, 8, 9]])\n",
    "print(a, \"\\n\")\n",
    "print(\"Main Diagonal => \", np.diag(a)) # prints the main diagoanl\n",
    "print(\"Upper Diagonal => \", np.diag(a, 1)) # prints the upper diagonal\n",
    "print(\"Lower Diagonal => \", np.diag(a, -1)) # prints the lower diagonal"
   ]
  },
  {
   "cell_type": "markdown",
   "id": "ef419980",
   "metadata": {},
   "source": [
    "# Random Values"
   ]
  },
  {
   "cell_type": "code",
   "execution_count": 121,
   "id": "bf2641bc",
   "metadata": {},
   "outputs": [
    {
     "name": "stdout",
     "output_type": "stream",
     "text": [
      "Matrix Array: \n",
      " [38 26 23 23 44 35]\n",
      "Matrix Dimnesion: \n",
      " 1\n"
     ]
    }
   ],
   "source": [
    "import numpy as np\n",
    "\n",
    "a = np.random.randint(1, 50, 6) # (min_value, max_value, no_of_elements)\n",
    "print(\"Matrix Array: \\n\", a)\n",
    "print(\"Matrix Dimnesion: \\n\", a.ndim)"
   ]
  },
  {
   "cell_type": "markdown",
   "id": "2d877daf",
   "metadata": {},
   "source": [
    "# Slicing (Means taking elements from one given index to another given index.)"
   ]
  },
  {
   "cell_type": "code",
   "execution_count": 138,
   "id": "c50c610e",
   "metadata": {},
   "outputs": [
    {
     "name": "stdout",
     "output_type": "stream",
     "text": [
      "0\n",
      "8\n",
      "[0 1 2 3]\n",
      "[1 2 3 4]\n",
      "[4 5 6 7]\n",
      "[0 2 4]\n"
     ]
    }
   ],
   "source": [
    "import numpy as np\n",
    "\n",
    "a = np.array([0, 1, 2, 3, 4, 5, 6, 7, 8])\n",
    "print(a[0]) # prints the first element\n",
    "print(a[-1]) # prints the last element\n",
    "print(a[0:4]) # prints first to fourth element, (start:end-1)\n",
    "print(a[1:5]) # prints second to fifth element\n",
    "print(a[-5:-1]) # prints negative fifth to negative first(last) element\n",
    "print(a[0:6:2]) # prints first to sixth element but with an interval of 2 "
   ]
  },
  {
   "cell_type": "markdown",
   "id": "ff4907b5",
   "metadata": {},
   "source": [
    "# Reshape (Gives a new shape to an array without changing its data.)"
   ]
  },
  {
   "cell_type": "code",
   "execution_count": 150,
   "id": "60e481fd",
   "metadata": {},
   "outputs": [
    {
     "name": "stdout",
     "output_type": "stream",
     "text": [
      "[32  5 34 36 19 14  9 31  6  9  2 32]\n",
      "(12,)\n",
      "\n",
      "[[32  5 34 36 19 14]\n",
      " [ 9 31  6  9  2 32]]\n",
      "\n",
      "[[32  5 34 36]\n",
      " [19 14  9 31]\n",
      " [ 6  9  2 32]]\n",
      "\n",
      "[[32  5 34]\n",
      " [36 19 14]\n",
      " [ 9 31  6]\n",
      " [ 9  2 32]]\n"
     ]
    }
   ],
   "source": [
    "import numpy as np\n",
    "\n",
    "a = np.random.randint(1, 50, 12)\n",
    "print(a)\n",
    "print(a.shape)\n",
    "print()\n",
    "\n",
    "b = a.reshape(2,6) # 2 Rows 6 Columns\n",
    "print(b)\n",
    "print()\n",
    "\n",
    "c = a.reshape(3,4) # 3 Rows 4 Columns\n",
    "print(c)\n",
    "print()\n",
    "\n",
    "d = a.reshape(4,3) # 4 Rows 3 Columns\n",
    "print(d)"
   ]
  },
  {
   "cell_type": "markdown",
   "id": "90bd9088",
   "metadata": {},
   "source": [
    "# seed (Generates a new set or repeats pseudo-random numbers. The value in the numpy random seed saves the state of randomness. It will display same numbers no matter how many time you call it.)"
   ]
  },
  {
   "cell_type": "code",
   "execution_count": 166,
   "id": "5012ff59",
   "metadata": {},
   "outputs": [
    {
     "name": "stdout",
     "output_type": "stream",
     "text": [
      "[47 22 18 19 21 15 25 10 26 11]\n"
     ]
    }
   ],
   "source": [
    "import numpy as np\n",
    "\n",
    "np.random.seed(1)\n",
    "a = np.random.randint(1, 100, 10) # (min_value, max_value, no_of_elements)\n",
    "print(a)"
   ]
  },
  {
   "cell_type": "markdown",
   "id": "9acb7c36",
   "metadata": {},
   "source": [
    "# Matrix (A two-dimensional data structure where numbers are arranged into rows and columns.)"
   ]
  },
  {
   "cell_type": "code",
   "execution_count": 3,
   "id": "8834a1dd",
   "metadata": {},
   "outputs": [
    {
     "name": "stdout",
     "output_type": "stream",
     "text": [
      "Enter number => 1\n",
      "Enter number => 2\n",
      "Enter number => 3\n",
      "Enter number => 4\n",
      "Enter number => 5\n",
      "Enter number => 6\n",
      "Enter number => 7\n",
      "Enter number => 8\n",
      "Enter number => 9\n",
      "[[1 2 3]\n",
      " [4 5 6]\n",
      " [7 8 9]]\n",
      "123 \n",
      "456 \n",
      "789 \n"
     ]
    }
   ],
   "source": [
    "import numpy as np\n",
    "\n",
    "matrix = []\n",
    "N = 3\n",
    "for i in range(0,N):\n",
    "    a = []\n",
    "    for j in range(0,N):\n",
    "        val = int(input(\"Enter number => \"))\n",
    "        a.append(val)\n",
    "    matrix.append(a)\n",
    "arr = np.array(matrix)\n",
    "print(arr)\n",
    "for i in range(0,N):\n",
    "    for j in range(0,N):\n",
    "        print(arr[i][j], end='')\n",
    "    print(\" \")"
   ]
  },
  {
   "cell_type": "code",
   "execution_count": 5,
   "id": "045bf73f",
   "metadata": {},
   "outputs": [
    {
     "name": "stdout",
     "output_type": "stream",
     "text": [
      "[[1 2 3]\n",
      " [4 5 6]\n",
      " [7 8 9]]\n",
      "123\n",
      "456\n",
      "789\n"
     ]
    }
   ],
   "source": [
    "import numpy as np\n",
    "\n",
    "a = np.array([[1, 2, 3], [4, 5, 6], [7, 8, 9]])\n",
    "print(a)\n",
    "\n",
    "for i in range(0, N):\n",
    "    for j in range(0, N):\n",
    "        print(a[i][j], end='')\n",
    "    print(\"\")"
   ]
  },
  {
   "cell_type": "code",
   "execution_count": 7,
   "id": "05684efc",
   "metadata": {},
   "outputs": [
    {
     "name": "stdout",
     "output_type": "stream",
     "text": [
      "[[1 2 3]\n",
      " [4 5 6]\n",
      " [7 8 9]]\n",
      "[[1 2 3]\n",
      " [4 5 6]]\n",
      "[[7 8 9]]\n"
     ]
    }
   ],
   "source": [
    "import numpy as np\n",
    "\n",
    "a = np.array([[1, 2, 3], [4, 5, 6], [7, 8, 9]])\n",
    "print(a)\n",
    "\n",
    "print(a[:2])\n",
    "print(a[2:])"
   ]
  },
  {
   "cell_type": "markdown",
   "id": "e4f4b74e",
   "metadata": {},
   "source": [
    "# View (Changes made on view affect the original array.)"
   ]
  },
  {
   "cell_type": "code",
   "execution_count": 1,
   "id": "1001e262",
   "metadata": {},
   "outputs": [
    {
     "name": "stdout",
     "output_type": "stream",
     "text": [
      "[3 4 5 6]\n",
      "[1 2 3 4 5 6 7 8 9]\n",
      "[100 100 100 100]\n",
      "[  1   2 100 100 100 100   7   8   9]\n"
     ]
    }
   ],
   "source": [
    "import numpy as np\n",
    "\n",
    "a = np.array([1, 2, 3, 4, 5, 6, 7, 8, 9])\n",
    "part = a[2:6]\n",
    "print(part)\n",
    "print(a)\n",
    "part[:] = 100\n",
    "print(part)\n",
    "print(a)"
   ]
  },
  {
   "cell_type": "markdown",
   "id": "612014aa",
   "metadata": {},
   "source": [
    "# Copy (Creates a copy of array. Changes made in copy does not affect the original array.)"
   ]
  },
  {
   "cell_type": "code",
   "execution_count": 2,
   "id": "08405bd5",
   "metadata": {},
   "outputs": [
    {
     "name": "stdout",
     "output_type": "stream",
     "text": [
      "[3 4 5 6]\n",
      "[1 2 3 4 5 6 7 8 9]\n",
      "[100 100 100 100]\n",
      "[1 2 3 4 5 6 7 8 9]\n"
     ]
    }
   ],
   "source": [
    "import numpy as np\n",
    "\n",
    "a = np.array([1, 2, 3, 4, 5, 6, 7, 8, 9])\n",
    "part = a[2:6].copy()\n",
    "print(part)\n",
    "print(a)\n",
    "part[:] = 100\n",
    "print(part)\n",
    "print(a)"
   ]
  },
  {
   "cell_type": "markdown",
   "id": "4a82de46",
   "metadata": {},
   "source": [
    "# Filtering (Getting some elements out of an existing array and creating a new array out of them is called filtering.)"
   ]
  },
  {
   "cell_type": "code",
   "execution_count": 9,
   "id": "bed02155",
   "metadata": {},
   "outputs": [
    {
     "name": "stdout",
     "output_type": "stream",
     "text": [
      "[ 1  2  3  4  5  6  7  8  9 10 11 12 13 14 15 16 17 18 19]\n",
      "[ 1  2  3  4  5  6  7  8  9 10 11 12 13 14 15  0  0  0  0]\n"
     ]
    }
   ],
   "source": [
    "import numpy as np\n",
    "\n",
    "a = np.arange(1, 20)\n",
    "print(a)\n",
    "\n",
    "# b = a > 15 # Prints true or false\n",
    "# b = a[a > 15] # Prints only the correct ones\n",
    "# print(b)\n",
    "\n",
    "a[a > 15] = 0 # Prints zero in place of correct ones\n",
    "print(a)"
   ]
  },
  {
   "cell_type": "code",
   "execution_count": 7,
   "id": "8c71b506",
   "metadata": {},
   "outputs": [
    {
     "name": "stdout",
     "output_type": "stream",
     "text": [
      "[ 1  2  3  4  5  6  7  8  9 10 11 12 13 14 15 16 17 18 19]\n",
      "[ 2  4  6  8 10 12 14 16 18]\n"
     ]
    }
   ],
   "source": [
    "import numpy as np\n",
    "\n",
    "a = np.arange(1, 20)\n",
    "print(a)\n",
    "\n",
    "# b = a % 2 == 0 # Prints true or false\n",
    "b = a[a % 2 == 0] # Prints only the correct ones\n",
    "print(b)"
   ]
  },
  {
   "cell_type": "markdown",
   "id": "1ce3833b",
   "metadata": {},
   "source": [
    "# Useful Functions"
   ]
  },
  {
   "cell_type": "code",
   "execution_count": 13,
   "id": "54eb7ebe",
   "metadata": {},
   "outputs": [
    {
     "name": "stdout",
     "output_type": "stream",
     "text": [
      "Minimum Value =>  7\n",
      "Argmin Value =>  9\n",
      "Maximum Value =>  88\n",
      "Argmax Value =>  5\n",
      "sqrt value =  [3.16227766 4.69041576 6.63324958 8.1240384  3.16227766 9.38083152\n",
      " 3.16227766 7.41619849 4.47213595 2.64575131 5.91607978]\n",
      "sin value =  [-0.54402111 -0.00885131  0.01770193 -0.02655115 -0.54402111  0.0353983\n",
      " -0.54402111 -0.99975517  0.91294525  0.6569866  -0.42818267]\n",
      "cos value =  [-0.83907153 -0.99996083  0.99984331 -0.99964746 -0.83907153  0.99937328\n",
      " -0.83907153  0.02212676  0.40808206  0.75390225 -0.90369221]\n",
      "unique value =  [ 7 10 20 22 35 44 55 66 88]\n",
      "sum value =  367\n",
      "[ 7 10 10 10 20 22 35 44 55 66 88]\n"
     ]
    }
   ],
   "source": [
    "import numpy as np\n",
    "\n",
    "a = np.array([10,22,44,66,10,88,10,55,20,7,35])\n",
    "\n",
    "print(\"Minimum Value => \", np.min(a)) # Return the minimum value\n",
    "print(\"Argmin Value => \", np.argmin(a)) # Returns the index of the minimum element\n",
    "print(\"Maximum Value => \", np.max(a)) # Returns the maximum value\n",
    "print(\"Argmax Value => \", np.argmax(a)) # Returns the index of the maximum element\n",
    "print(\"sqrt value = \",np.sqrt(a)) # Returns the square root of array elements\n",
    "print(\"sin value = \",np.sin(a)) # Returns the sin values of array elements\n",
    "print(\"cos value = \",np.cos(a)) # Returns the cos values of array elements\n",
    "print(\"unique value = \",np.unique(a)) # Returns the unique elements of array\n",
    "print(\"sum value = \",np.sum(a))\n",
    "\n",
    "b = np.sort(a)\n",
    "print(b)"
   ]
  },
  {
   "cell_type": "code",
   "execution_count": 15,
   "id": "12a2461a",
   "metadata": {},
   "outputs": [
    {
     "name": "stdout",
     "output_type": "stream",
     "text": [
      "Input array: [0.23, 0.09, 1.2, 1.24678, 9.99, 3.567]\n",
      "[0. 0. 1. 1. 9. 3.]\n",
      "[0. 0. 1. 1. 9. 3.]\n",
      "[ 1.  1.  2.  2. 10.  4.]\n",
      "[ 1.          5.83333333 10.66666667 15.5        20.33333333 25.16666667\n",
      " 30.        ]\n",
      "[ 1  5  9 13 17 21 25 30]\n"
     ]
    }
   ],
   "source": [
    "a = [0.23, 0.09, 1.2, 1.24678, 9.99,3.567]  \n",
    "print(\"Input array:\",a)  \n",
    "\n",
    "a1 = np.trunc(a)  \n",
    "print(a1)\n",
    "\n",
    "a2 = np.floor(a)  \n",
    "print(a2)\n",
    "\n",
    "a3 = np.ceil(a)  \n",
    "print(a3)\n",
    "\n",
    "a = np.array(np.linspace(1, 30, num=7))\n",
    "print(a)\n",
    "\n",
    "a = np.array(np.linspace(1, 30, num=8, dtype=int))\n",
    "print(a)"
   ]
  },
  {
   "cell_type": "code",
   "execution_count": 20,
   "id": "b67328dc",
   "metadata": {},
   "outputs": [
    {
     "name": "stdout",
     "output_type": "stream",
     "text": [
      "1st Input array : \n",
      " [11 22 33 44 55]\n",
      "2nd Input array : \n",
      " [1 2 3 4 5]\n",
      "Output vertically stacked array:\n",
      "  [[11 22 33 44 55]\n",
      " [ 1  2  3  4  5]]\n"
     ]
    }
   ],
   "source": [
    "a1 = np.array([ 11,22,33,44,55] )\n",
    "print (\"1st Input array : \\n\", a1) \n",
    "  \n",
    "a2 = np.array([1,2,3,4,5] )\n",
    "print (\"2nd Input array : \\n\", a2) \n",
    "  \n",
    "a3 = np.vstack((a1, a2))\n",
    "print (\"Output vertically stacked array:\\n \", a3)"
   ]
  },
  {
   "cell_type": "code",
   "execution_count": 22,
   "id": "c2d0e83c",
   "metadata": {},
   "outputs": [
    {
     "name": "stdout",
     "output_type": "stream",
     "text": [
      "1st Input array : \n",
      " [[ 1  2  3]\n",
      " [-1 -2 -3]]\n",
      "2nd Input array : \n",
      " [[ 4  5  6]\n",
      " [-4 -5 -6]]\n",
      "Output stacked array :\n",
      "  [[ 1  2  3]\n",
      " [-1 -2 -3]\n",
      " [ 4  5  6]\n",
      " [-4 -5 -6]]\n"
     ]
    }
   ],
   "source": [
    "a1 = np.array([[ 1, 2, 3], [ -1, -2, -3]] )\n",
    "print (\"1st Input array : \\n\", a1) \n",
    "  \n",
    "a2 = np.array([[ 4, 5, 6], [ -4, -5, -6]] )\n",
    "print (\"2nd Input array : \\n\", a2) \n",
    "  \n",
    "a3 = np.vstack((a1,a2))\n",
    "print (\"Output stacked array :\\n \", a3)"
   ]
  },
  {
   "cell_type": "code",
   "execution_count": 23,
   "id": "ebe645c4",
   "metadata": {},
   "outputs": [
    {
     "name": "stdout",
     "output_type": "stream",
     "text": [
      "1st Input array : \n",
      " [11 22 33 44 55]\n",
      "2nd Input array : \n",
      " [1 2 3 4 5]\n",
      "Output horizontally stacked array:\n",
      "  [11 22 33 44 55  1  2  3  4  5]\n"
     ]
    }
   ],
   "source": [
    "a1 = np.array([ 11,22,33,44,55] )\n",
    "print (\"1st Input array : \\n\", a1) \n",
    "  \n",
    "a2 = np.array([1,2,3,4,5] )\n",
    "print (\"2nd Input array : \\n\", a2) \n",
    "  \n",
    "a3 = np.hstack((a1, a2))\n",
    "print (\"Output horizontally stacked array:\\n \", a3)"
   ]
  },
  {
   "cell_type": "code",
   "execution_count": 24,
   "id": "8d262dca",
   "metadata": {},
   "outputs": [
    {
     "name": "stdout",
     "output_type": "stream",
     "text": [
      "1st Input array : \n",
      " [[ 1  2  3]\n",
      " [-1 -2 -3]]\n",
      "2nd Input array : \n",
      " [[ 4  5  6]\n",
      " [-4 -5 -6]]\n",
      "Output stacked array :\n",
      "  [[ 1  2  3  4  5  6]\n",
      " [-1 -2 -3 -4 -5 -6]]\n"
     ]
    }
   ],
   "source": [
    "a1 = np.array([[ 1, 2, 3], [ -1, -2, -3]] )\n",
    "print (\"1st Input array : \\n\", a1) \n",
    "  \n",
    "a2 = np.array([[ 4, 5, 6], [ -4, -5, -6]] )\n",
    "print (\"2nd Input array : \\n\", a2) \n",
    "  \n",
    "a3 = np.hstack((a1,a2))\n",
    "print (\"Output stacked array :\\n \", a3)"
   ]
  },
  {
   "cell_type": "markdown",
   "id": "df52bc7a",
   "metadata": {},
   "source": [
    "# Where condition"
   ]
  },
  {
   "cell_type": "code",
   "execution_count": 2,
   "id": "04b8c6fb",
   "metadata": {},
   "outputs": [
    {
     "name": "stdout",
     "output_type": "stream",
     "text": [
      "(array([2], dtype=int64),)\n",
      "(array([1, 3, 5, 7], dtype=int64),)\n",
      "(array([4], dtype=int64),)\n"
     ]
    }
   ],
   "source": [
    "import numpy as np\n",
    "\n",
    "a = np.array([1, 2, 3, 4, 5, 6, 7, 8, 9])\n",
    "\n",
    "b = np.where(a == 3)\n",
    "print(b)\n",
    "\n",
    "c = np.where(a % 2 == 0)\n",
    "print(c)\n",
    "\n",
    "d = np.where(a == 5)\n",
    "print(d)"
   ]
  }
 ],
 "metadata": {
  "kernelspec": {
   "display_name": "Python 3 (ipykernel)",
   "language": "python",
   "name": "python3"
  },
  "language_info": {
   "codemirror_mode": {
    "name": "ipython",
    "version": 3
   },
   "file_extension": ".py",
   "mimetype": "text/x-python",
   "name": "python",
   "nbconvert_exporter": "python",
   "pygments_lexer": "ipython3",
   "version": "3.9.12"
  }
 },
 "nbformat": 4,
 "nbformat_minor": 5
}
